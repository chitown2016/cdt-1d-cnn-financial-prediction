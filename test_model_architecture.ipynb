{
 "cells": [
  {
   "cell_type": "code",
   "execution_count": 59,
   "metadata": {},
   "outputs": [
    {
     "name": "stdout",
     "output_type": "stream",
     "text": [
      "[[ 0.31672174]\n",
      " [ 0.24630368]\n",
      " [-0.2589386 ]\n",
      " [ 0.31454676]]\n",
      "0.61863357\n",
      "0.30191183\n",
      "0.3040868\n",
      "0.5630254\n",
      "tf.Tensor(\n",
      "[[0.30191183 0.61863357 0.61863357 0.61863357 0.61863357 0.61863357\n",
      "  0.61863357 0.61863357 0.61863357 0.61863357 0.61863357 0.61863357\n",
      "  0.61863357 0.61863357 0.61863357 0.61863357 0.61863357 0.61863357\n",
      "  0.61863357 0.61863357 0.61863357 0.61863357 0.3040868  0.5630254 ]\n",
      " [0.30191183 0.61863357 0.61863357 0.61863357 0.61863357 0.61863357\n",
      "  0.61863357 0.61863357 0.61863357 0.61863357 0.61863357 0.61863357\n",
      "  0.61863357 0.61863357 0.61863357 0.61863357 0.61863357 0.61863357\n",
      "  0.61863357 0.61863357 0.61863357 0.61863357 0.3040868  0.5630254 ]\n",
      " [0.30191183 0.61863357 0.61863357 0.61863357 0.61863357 0.61863357\n",
      "  0.61863357 0.61863357 0.61863357 0.61863357 0.61863357 0.61863357\n",
      "  0.61863357 0.61863357 0.61863357 0.61863357 0.61863357 0.61863357\n",
      "  0.61863357 0.61863357 0.61863357 0.61863357 0.3040868  0.5630254 ]\n",
      " [0.30191183 0.61863357 0.61863357 0.61863357 0.61863357 0.61863357\n",
      "  0.61863357 0.61863357 0.61863357 0.61863357 0.61863357 0.61863357\n",
      "  0.61863357 0.61863357 0.61863357 0.61863357 0.61863357 0.61863357\n",
      "  0.61863357 0.61863357 0.61863357 0.61863357 0.3040868  0.5630254 ]\n",
      " [0.30191183 0.61863357 0.61863357 0.61863357 0.61863357 0.61863357\n",
      "  0.61863357 0.61863357 0.61863357 0.61863357 0.61863357 0.61863357\n",
      "  0.61863357 0.61863357 0.61863357 0.61863357 0.61863357 0.61863357\n",
      "  0.61863357 0.61863357 0.61863357 0.61863357 0.3040868  0.5630254 ]], shape=(5, 24), dtype=float32)\n",
      "tf.Tensor(\n",
      "[[0.30191183 0.61863357 0.61863357 0.61863357 0.61863357 0.61863357\n",
      "  0.61863357 0.61863357 0.61863357 0.61863357 0.61863357 0.61863357\n",
      "  0.61863357 0.61863357 0.61863357 0.61863357 0.61863357 0.61863357\n",
      "  0.61863357 0.61863357 0.61863357 0.61863357 0.3040868  0.5630254 ]\n",
      " [0.60382366 1.2372671  1.2372671  1.2372671  1.2372671  1.2372671\n",
      "  1.2372671  1.2372671  1.2372671  1.2372671  1.2372671  1.2372671\n",
      "  1.2372671  1.2372671  1.2372671  1.2372671  1.2372671  1.2372671\n",
      "  1.2372671  1.2372671  1.2372671  1.2372671  0.6081736  1.1260508 ]\n",
      " [0.90573555 1.8559008  1.8559008  1.8559008  1.8559008  1.8559008\n",
      "  1.8559008  1.8559008  1.8559008  1.8559008  1.8559008  1.8559008\n",
      "  1.8559008  1.8559008  1.8559008  1.8559008  1.8559008  1.8559008\n",
      "  1.8559008  1.8559008  1.8559008  1.8559008  0.9122604  1.6890762 ]\n",
      " [0.30191183 0.61863357 0.61863357 0.61863357 0.61863357 0.61863357\n",
      "  0.61863357 0.61863357 0.61863357 0.61863357 0.61863357 0.61863357\n",
      "  0.61863357 0.61863357 0.61863357 0.61863357 0.61863357 0.61863357\n",
      "  0.61863357 0.61863357 0.61863357 0.61863357 0.3040868  0.5630254 ]\n",
      " [0.30191183 0.61863357 0.61863357 0.61863357 0.61863357 0.61863357\n",
      "  0.61863357 0.61863357 0.61863357 0.61863357 0.61863357 0.61863357\n",
      "  0.61863357 0.61863357 0.61863357 0.61863357 0.61863357 0.61863357\n",
      "  0.61863357 0.61863357 0.61863357 0.61863357 0.3040868  0.5630254 ]], shape=(5, 24), dtype=float32)\n"
     ]
    }
   ],
   "source": [
    "# First channel is calculated as expected only using the weights associated with the first channel\n",
    "# also kernel is moving as expected horizontally\n",
    "# padding is done only to the left and right edges and 1 more extra padding to the right edge as the kernel length is even\n",
    "\n",
    "from tensorflow.keras.layers import Conv2D\n",
    "from tensorflow.keras import regularizers\n",
    "import numpy as np\n",
    "\n",
    "conv2d_strides = 1\n",
    "kernel_regularizer = 1e-5\n",
    "\n",
    "reshaped_input = np.ones(5*24).reshape(1,5,24,1)\n",
    "reshaped_input2 = reshaped_input.copy()\n",
    "reshaped_input2[:,1,:,:]  = 2*reshaped_input2[:,1,:,:]\n",
    "reshaped_input2[:,2,:,:]  = 3*reshaped_input2[:,2,:,:]\n",
    "\n",
    "conv2d_layer1 = Conv2D(2, (1,4), strides = conv2d_strides,\n",
    "                           kernel_regularizer=regularizers.l2(kernel_regularizer),\n",
    "                           padding='same', use_bias=True,\n",
    "                           kernel_initializer='glorot_uniform',\n",
    "                           input_shape=(5,24))\n",
    "\n",
    "output = conv2d_layer1(reshaped_input)\n",
    "output2 = conv2d_layer1(reshaped_input2)\n",
    "\n",
    "weights = conv2d_layer1.get_weights()\n",
    "\n",
    "first_channel_weights = weights[0][0,:,:,0]\n",
    "print(first_channel_weights)\n",
    "print(first_channel_weights[0][0]+first_channel_weights[1][0]+first_channel_weights[2][0]+first_channel_weights[3][0])\n",
    "print(first_channel_weights[1][0]+first_channel_weights[2][0]+first_channel_weights[3][0])\n",
    "print(first_channel_weights[0][0]+first_channel_weights[1][0]+first_channel_weights[2][0])\n",
    "print(first_channel_weights[0][0]+first_channel_weights[1][0])\n",
    "print(output[0,:,:,0])\n",
    "print(output2[0,:,:,0])\n",
    "\n"
   ]
  },
  {
   "cell_type": "code",
   "execution_count": 5,
   "metadata": {},
   "outputs": [
    {
     "data": {
      "text/plain": [
       "array([[1., 1., 1., 1., 1., 1., 1., 1., 1., 1., 1., 1., 1., 1., 1., 1.,\n",
       "        1., 1., 1., 1., 1., 1., 1., 1.],\n",
       "       [1., 1., 1., 1., 1., 1., 1., 1., 1., 1., 1., 1., 1., 1., 1., 1.,\n",
       "        1., 1., 1., 1., 1., 1., 1., 1.],\n",
       "       [1., 1., 1., 1., 1., 1., 1., 1., 1., 1., 1., 1., 1., 1., 1., 1.,\n",
       "        1., 1., 1., 1., 1., 1., 1., 1.],\n",
       "       [1., 1., 1., 1., 1., 1., 1., 1., 1., 1., 1., 1., 1., 1., 1., 1.,\n",
       "        1., 1., 1., 1., 1., 1., 1., 1.],\n",
       "       [1., 1., 1., 1., 1., 1., 1., 1., 1., 1., 1., 1., 1., 1., 1., 1.,\n",
       "        1., 1., 1., 1., 1., 1., 1., 1.]])"
      ]
     },
     "execution_count": 5,
     "metadata": {},
     "output_type": "execute_result"
    }
   ],
   "source": [
    "import tensorflow as tf\n",
    "import numpy as np\n",
    "reshaped_input = np.ones(5*24).reshape(1,5,24,1)\n",
    "reshaped_input[0,:,:,0]"
   ]
  },
  {
   "cell_type": "code",
   "execution_count": null,
   "metadata": {},
   "outputs": [],
   "source": []
  }
 ],
 "metadata": {
  "kernelspec": {
   "display_name": "cnn1",
   "language": "python",
   "name": "python3"
  },
  "language_info": {
   "codemirror_mode": {
    "name": "ipython",
    "version": 3
   },
   "file_extension": ".py",
   "mimetype": "text/x-python",
   "name": "python",
   "nbconvert_exporter": "python",
   "pygments_lexer": "ipython3",
   "version": "3.10.12"
  },
  "orig_nbformat": 4
 },
 "nbformat": 4,
 "nbformat_minor": 2
}
